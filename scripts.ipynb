{
 "cells": [
  {
   "cell_type": "code",
   "execution_count": 1,
   "metadata": {},
   "outputs": [
    {
     "name": "stdout",
     "output_type": "stream",
     "text": [
      "Hello, World!\n"
     ]
    }
   ],
   "source": [
    "#Introducion - Say \"Hello, World!\" With Python\n",
    "\n",
    "print(\"Hello, World!\")"
   ]
  },
  {
   "cell_type": "code",
   "execution_count": null,
   "metadata": {},
   "outputs": [],
   "source": [
    "#Introduction - Python If-Else\n",
    "\n",
    "if __name__ == '__main__':\n",
    "    n = int(input().strip())\n",
    "    if n % 2 == 1 or (n % 2 == 0 and n >= 6 and n <= 20):\n",
    "        print(\"Weird\")\n",
    "    else :\n",
    "        print(\"Not Weird\")"
   ]
  },
  {
   "cell_type": "code",
   "execution_count": null,
   "metadata": {},
   "outputs": [],
   "source": [
    "#Introduction - Arithmetic Operator\n",
    "\n",
    "if __name__ == '__main__':\n",
    "    a = int(input())\n",
    "    b = int(input())\n",
    "    print(a+b)\n",
    "    print(a-b)\n",
    "    print(a*b)"
   ]
  },
  {
   "cell_type": "code",
   "execution_count": null,
   "metadata": {},
   "outputs": [],
   "source": [
    "#Introduction - Python: Division\n",
    "\n",
    "if __name__ == '__main__':\n",
    "    a = int(input())\n",
    "    b = int(input())\n",
    "    print(a//b)\n",
    "    print(a/b)"
   ]
  },
  {
   "cell_type": "code",
   "execution_count": null,
   "metadata": {},
   "outputs": [],
   "source": [
    "#Introduction - Loops\n",
    "\n",
    "if __name__ == '__main__':\n",
    "    n = int(input())\n",
    "    for i in range(0, n):\n",
    "        print(i*i)"
   ]
  },
  {
   "cell_type": "code",
   "execution_count": null,
   "metadata": {},
   "outputs": [],
   "source": [
    "#Introduction - Write a function\n",
    "\n",
    "def is_leap(year):\n",
    "    leap = False\n",
    "    if year%4 == 0:\n",
    "        leap = True\n",
    "        if year%100 == 0 and year%400 == 0:\n",
    "            leap = True\n",
    "        elif year%100 == 0 and year%400 != 0:\n",
    "            leap = False\n",
    "    return leap\n",
    "\n",
    "year = int(input())\n",
    "print(is_leap(year))"
   ]
  },
  {
   "cell_type": "code",
   "execution_count": null,
   "metadata": {},
   "outputs": [],
   "source": [
    "#Introduction - Print Function\n",
    "\n",
    "if __name__ == '__main__':\n",
    "    n = int(input())\n",
    "    for i in range(1,n+1):\n",
    "        print(i, end='')"
   ]
  },
  {
   "cell_type": "code",
   "execution_count": null,
   "metadata": {},
   "outputs": [],
   "source": [
    "# Basic Data Types - Lists\n",
    "\n",
    "if __name__ == \"__main__\":\n",
    "    N = int(input())\n",
    "    list = []\n",
    "    for _ in range(N):\n",
    "        command = input().split()\n",
    "        if command[0] == \"insert\":\n",
    "            list.insert(int(command[1]), int(command[2]))\n",
    "        elif command[0] == \"print\":\n",
    "            print(list)\n",
    "        elif command[0] == \"remove\":\n",
    "            list.remove(int(command[1]))\n",
    "        elif command[0] == \"append\":\n",
    "            list.append(int(command[1]))\n",
    "        elif command[0] == \"sort\":\n",
    "            list.sort()\n",
    "        elif command[0] == \"pop\":\n",
    "            list.pop()\n",
    "        elif command[0] == \"reverse\":\n",
    "            list.reverse()"
   ]
  },
  {
   "cell_type": "code",
   "execution_count": null,
   "metadata": {},
   "outputs": [],
   "source": [
    "#Basic Data Types - List Comprehensions\n",
    "\n",
    "if __name__ == '__main__':\n",
    "    x = int(input())\n",
    "    y = int(input())\n",
    "    z = int(input())\n",
    "    n = int(input())\n",
    "    array = [[i, j, k] for i in range(0, x+1) for j in range(0, y+1) for k in range(0, z+1) if i+j+k != n]\n",
    "    print(array)"
   ]
  },
  {
   "cell_type": "code",
   "execution_count": null,
   "metadata": {},
   "outputs": [],
   "source": [
    "#Basic Data Types - Find the Runner-Up Score!\n",
    "\n",
    "if __name__ == '__main__':\n",
    "    n = int(input())\n",
    "    arr = map(int, input().split())\n",
    "    arr2 = list(arr)\n",
    "    arr2.sort()\n",
    "    maximum = arr2[-1]  # save the maximum\n",
    "    \n",
    "    # arr2 is sorted. In this loop i remove all the values equals to the maximum \n",
    "    while arr2[-1] == maximum:\n",
    "        arr2.pop()\n",
    "    print(arr2[-1])   "
   ]
  },
  {
   "cell_type": "code",
   "execution_count": null,
   "metadata": {},
   "outputs": [],
   "source": [
    "# Basic Data Types - Nested Lists\n",
    "\n",
    "def minimumGrade(array):\n",
    "    minGrade = array[0][1]\n",
    "    for i in range(len(array)):\n",
    "        if array[i][1] < minGrade:\n",
    "            minGrade = array[i][1]\n",
    "    return minGrade\n",
    "\n",
    "\n",
    "if __name__ == \"__main__\":\n",
    "    students = []\n",
    "    for _ in range(int(input())):\n",
    "        name = input()\n",
    "        score = float(input())\n",
    "        students.append([name, score])\n",
    "\n",
    "    minGrade = minimumGrade(students)\n",
    "\n",
    "    studentsFiltered = [x for x in students if x[1] > minGrade]\n",
    "\n",
    "    minGrade2 = minimumGrade(studentsFiltered)\n",
    "\n",
    "    result = [x[0] for x in studentsFiltered if x[1] == minGrade2]\n",
    "    result.sort()\n",
    "\n",
    "    for i in range(len(result)):\n",
    "        print(result[i])"
   ]
  },
  {
   "cell_type": "code",
   "execution_count": null,
   "metadata": {},
   "outputs": [],
   "source": [
    "# Basic Data Types - Finding the perncentage\n",
    "\n",
    "if __name__ == \"__main__\":\n",
    "    n = int(input())\n",
    "    student_marks = {}\n",
    "    for _ in range(n):\n",
    "        name, *command = input().split()\n",
    "        scores = list(map(float, command))\n",
    "        student_marks[name] = scores\n",
    "    query_name = input()\n",
    "\n",
    "    average = sum(student_marks[query_name]) / 3\n",
    "\n",
    "    print(\"%.2f\" % (average))"
   ]
  },
  {
   "cell_type": "code",
   "execution_count": null,
   "metadata": {},
   "outputs": [],
   "source": [
    "#Basic Data Types - Tuples\n",
    "\n",
    "#Not working\n",
    "#https://www.hackerrank.com/challenges/python-tuples/problem?isFullScreen=true\n",
    "\n",
    "n = int(input())\n",
    "command = map(int, input().split())\n",
    "t = tuple(command)\n",
    "print(hash(t))"
   ]
  }
 ],
 "metadata": {
  "kernelspec": {
   "display_name": "adm",
   "language": "python",
   "name": "python3"
  },
  "language_info": {
   "codemirror_mode": {
    "name": "ipython",
    "version": 3
   },
   "file_extension": ".py",
   "mimetype": "text/x-python",
   "name": "python",
   "nbconvert_exporter": "python",
   "pygments_lexer": "ipython3",
   "version": "3.11.5"
  },
  "orig_nbformat": 4
 },
 "nbformat": 4,
 "nbformat_minor": 2
}
