{
 "cells": [
  {
   "cell_type": "markdown",
   "metadata": {},
   "source": [
    "# Introduction"
   ]
  },
  {
   "cell_type": "code",
   "execution_count": 1,
   "metadata": {},
   "outputs": [
    {
     "name": "stdout",
     "output_type": "stream",
     "text": [
      "Hello, World!\n"
     ]
    }
   ],
   "source": [
    "# Say \"Hello, World!\" With Python\n",
    "\n",
    "print(\"Hello, World!\")"
   ]
  },
  {
   "cell_type": "code",
   "execution_count": null,
   "metadata": {},
   "outputs": [],
   "source": [
    "# Python If-Else\n",
    "\n",
    "if __name__ == '__main__':\n",
    "    n = int(input().strip())\n",
    "    if n % 2 == 1 or (n % 2 == 0 and n >= 6 and n <= 20):\n",
    "        print(\"Weird\")\n",
    "    else :\n",
    "        print(\"Not Weird\")"
   ]
  },
  {
   "cell_type": "code",
   "execution_count": null,
   "metadata": {},
   "outputs": [],
   "source": [
    "# Arithmetic Operator\n",
    "\n",
    "if __name__ == '__main__':\n",
    "    a = int(input())\n",
    "    b = int(input())\n",
    "    print(a+b)\n",
    "    print(a-b)\n",
    "    print(a*b)"
   ]
  },
  {
   "cell_type": "code",
   "execution_count": null,
   "metadata": {},
   "outputs": [],
   "source": [
    "# Python: Division\n",
    "\n",
    "if __name__ == '__main__':\n",
    "    a = int(input())\n",
    "    b = int(input())\n",
    "    print(a//b)\n",
    "    print(a/b)"
   ]
  },
  {
   "cell_type": "code",
   "execution_count": null,
   "metadata": {},
   "outputs": [],
   "source": [
    "# Loops\n",
    "\n",
    "if __name__ == '__main__':\n",
    "    n = int(input())\n",
    "    for i in range(0, n):\n",
    "        print(i*i)"
   ]
  },
  {
   "cell_type": "code",
   "execution_count": null,
   "metadata": {},
   "outputs": [],
   "source": [
    "# Write a function\n",
    "\n",
    "def is_leap(year):\n",
    "    leap = False\n",
    "    if year%4 == 0:\n",
    "        leap = True\n",
    "        if year%100 == 0 and year%400 == 0:\n",
    "            leap = True\n",
    "        elif year%100 == 0 and year%400 != 0:\n",
    "            leap = False\n",
    "    return leap\n",
    "\n",
    "year = int(input())\n",
    "print(is_leap(year))"
   ]
  },
  {
   "cell_type": "code",
   "execution_count": null,
   "metadata": {},
   "outputs": [],
   "source": [
    "# Print Function\n",
    "\n",
    "if __name__ == '__main__':\n",
    "    n = int(input())\n",
    "    for i in range(1,n+1):\n",
    "        print(i, end='')"
   ]
  },
  {
   "cell_type": "markdown",
   "metadata": {},
   "source": [
    "# Basic Data Types "
   ]
  },
  {
   "cell_type": "code",
   "execution_count": null,
   "metadata": {},
   "outputs": [],
   "source": [
    "# Lists\n",
    "\n",
    "if __name__ == \"__main__\":\n",
    "    N = int(input())\n",
    "    list = []\n",
    "    for _ in range(N):\n",
    "        command = input().split()\n",
    "        if command[0] == \"insert\":\n",
    "            list.insert(int(command[1]), int(command[2]))\n",
    "        elif command[0] == \"print\":\n",
    "            print(list)\n",
    "        elif command[0] == \"remove\":\n",
    "            list.remove(int(command[1]))\n",
    "        elif command[0] == \"append\":\n",
    "            list.append(int(command[1]))\n",
    "        elif command[0] == \"sort\":\n",
    "            list.sort()\n",
    "        elif command[0] == \"pop\":\n",
    "            list.pop()\n",
    "        elif command[0] == \"reverse\":\n",
    "            list.reverse()"
   ]
  },
  {
   "cell_type": "code",
   "execution_count": null,
   "metadata": {},
   "outputs": [],
   "source": [
    "# List Comprehensions\n",
    "\n",
    "if __name__ == '__main__':\n",
    "    x = int(input())\n",
    "    y = int(input())\n",
    "    z = int(input())\n",
    "    n = int(input())\n",
    "    array = [[i, j, k] for i in range(0, x+1) for j in range(0, y+1) for k in range(0, z+1) if i+j+k != n]\n",
    "    print(array)"
   ]
  },
  {
   "cell_type": "code",
   "execution_count": null,
   "metadata": {},
   "outputs": [],
   "source": [
    "# Find the Runner-Up Score!\n",
    "\n",
    "if __name__ == '__main__':\n",
    "    n = int(input())\n",
    "    arr = map(int, input().split())\n",
    "    arr2 = list(arr)\n",
    "    arr2.sort()\n",
    "    maximum = arr2[-1]  # save the maximum\n",
    "    \n",
    "    # arr2 is sorted. In this loop i remove all the values equals to the maximum \n",
    "    while arr2[-1] == maximum:\n",
    "        arr2.pop()\n",
    "    print(arr2[-1])   "
   ]
  },
  {
   "cell_type": "code",
   "execution_count": null,
   "metadata": {},
   "outputs": [],
   "source": [
    "# Nested Lists\n",
    "\n",
    "def minimumGrade(array):\n",
    "    minGrade = array[0][1]\n",
    "    for i in range(len(array)):\n",
    "        if array[i][1] < minGrade:\n",
    "            minGrade = array[i][1]\n",
    "    return minGrade\n",
    "\n",
    "\n",
    "if __name__ == \"__main__\":\n",
    "    students = []\n",
    "    for _ in range(int(input())):\n",
    "        name = input()\n",
    "        score = float(input())\n",
    "        students.append([name, score])\n",
    "\n",
    "    minGrade = minimumGrade(students)\n",
    "\n",
    "    studentsFiltered = [x for x in students if x[1] > minGrade]\n",
    "\n",
    "    minGrade2 = minimumGrade(studentsFiltered)\n",
    "\n",
    "    result = [x[0] for x in studentsFiltered if x[1] == minGrade2]\n",
    "    result.sort()\n",
    "\n",
    "    for i in range(len(result)):\n",
    "        print(result[i])"
   ]
  },
  {
   "cell_type": "code",
   "execution_count": null,
   "metadata": {},
   "outputs": [],
   "source": [
    "# Finding the perncentage\n",
    "\n",
    "if __name__ == \"__main__\":\n",
    "    n = int(input())\n",
    "    student_marks = {}\n",
    "    for _ in range(n):\n",
    "        name, *command = input().split()\n",
    "        scores = list(map(float, command))\n",
    "        student_marks[name] = scores\n",
    "    query_name = input()\n",
    "\n",
    "    average = sum(student_marks[query_name]) / 3\n",
    "\n",
    "    print(\"%.2f\" % (average))"
   ]
  },
  {
   "cell_type": "code",
   "execution_count": null,
   "metadata": {},
   "outputs": [],
   "source": [
    "# Tuples\n",
    "\n",
    "#Not working\n",
    "#TODO https://www.hackerrank.com/challenges/python-tuples/problem?isFullScreen=true\n",
    "\n",
    "n = int(input())\n",
    "numbers = [int(x) for x in input().split()]\n",
    "t = tuple(numbers)\n",
    "print(hash(t))"
   ]
  },
  {
   "cell_type": "markdown",
   "metadata": {},
   "source": [
    "# Strings"
   ]
  },
  {
   "cell_type": "code",
   "execution_count": null,
   "metadata": {},
   "outputs": [],
   "source": [
    "# sWAP cASE\n",
    "\n",
    "def swap_case(s):\n",
    "    s = s.swapcase()\n",
    "    return s\n",
    "\n",
    "if __name__ == '__main__':\n",
    "    s = input()\n",
    "    result = swap_case(s)\n",
    "    print(result)"
   ]
  },
  {
   "cell_type": "code",
   "execution_count": null,
   "metadata": {},
   "outputs": [],
   "source": [
    "# String Split and Join\n",
    "\n",
    "def split_and_join(line):\n",
    "    words = line.split(\" \")\n",
    "    result = words[0]\n",
    "    for i in range(1, len(words)):\n",
    "        result = result + \"-\" + words[i]\n",
    "    return result\n",
    "\n",
    "\n",
    "if __name__ == \"__main__\":\n",
    "    line = input()\n",
    "    result = split_and_join(line)\n",
    "    print(result)"
   ]
  },
  {
   "cell_type": "code",
   "execution_count": null,
   "metadata": {},
   "outputs": [],
   "source": [
    "# What's Your Name?\n",
    "\n",
    "def print_full_name(first, last):\n",
    "    print(\"Hello \"+first+\" \"+last+\"! You just delved into python.\")\n",
    "\n",
    "if __name__ == '__main__':\n",
    "    first_name = input()\n",
    "    last_name = input()\n",
    "    print_full_name(first_name, last_name)"
   ]
  },
  {
   "cell_type": "code",
   "execution_count": null,
   "metadata": {},
   "outputs": [],
   "source": [
    "# Mutations\n",
    "\n",
    "def mutate_string(string, position, character):\n",
    "    string = string[:position] + character + string[position + 1 :]\n",
    "    return string\n",
    "\n",
    "\n",
    "if __name__ == \"__main__\":\n",
    "    s = input()\n",
    "    i, c = input().split()\n",
    "    s_new = mutate_string(s, int(i), c)\n",
    "    print(s_new)"
   ]
  },
  {
   "cell_type": "code",
   "execution_count": null,
   "metadata": {},
   "outputs": [],
   "source": [
    "# Find a string\n",
    "\n",
    "# Recursive functino to include cases like findind CDC in ABCDCDC\n",
    "def count_substring(string, sub_string):\n",
    "    index = string.find(sub_string)\n",
    "    if index != -1:\n",
    "        return 1 + count_substring(string[index + 1 :], sub_string)\n",
    "    else:\n",
    "        return 0\n",
    "\n",
    "\n",
    "if __name__ == \"__main__\":\n",
    "    string = input().strip()\n",
    "    sub_string = input().strip()\n",
    "    count = count_substring(string, sub_string)\n",
    "    print(count)"
   ]
  },
  {
   "cell_type": "code",
   "execution_count": null,
   "metadata": {},
   "outputs": [],
   "source": [
    "# String Validarors\n",
    "\n",
    "if __name__ == \"__main__\":\n",
    "    s = input()\n",
    "    answers = [False, False, False, False, False]\n",
    "    characters = list(s)\n",
    "    for c in characters:\n",
    "        if c.isalnum():\n",
    "            answers[0] = True\n",
    "            break\n",
    "\n",
    "    for c in characters:\n",
    "        if c.isalpha():\n",
    "            answers[1] = True\n",
    "            break\n",
    "\n",
    "    for c in characters:\n",
    "        if c.isdigit():\n",
    "            answers[2] = True\n",
    "            break\n",
    "\n",
    "    for c in characters:\n",
    "        if c.islower():\n",
    "            answers[3] = True\n",
    "            break\n",
    "\n",
    "    for c in characters:\n",
    "        if c.isupper():\n",
    "            answers[4] = True\n",
    "            break\n",
    "\n",
    "    for x in answers:\n",
    "        print(x)"
   ]
  },
  {
   "cell_type": "code",
   "execution_count": null,
   "metadata": {},
   "outputs": [],
   "source": [
    "# Text Alignment\n",
    "\n",
    "thickness = int(input()) #This must be an odd number\n",
    "c = 'H'\n",
    "\n",
    "#Top Cone\n",
    "for i in range(thickness):\n",
    "    print((c*i).rjust(thickness-1)+c+(c*i).ljust(thickness-1))\n",
    "\n",
    "#Top Pillars\n",
    "for i in range(thickness+1):\n",
    "    print((c*thickness).center(thickness*2)+(c*thickness).center(thickness*6))\n",
    "\n",
    "#Middle Belt\n",
    "for i in range((thickness+1)//2):\n",
    "    print((c*thickness*5).center(thickness*6))    \n",
    "\n",
    "#Bottom Pillars\n",
    "for i in range(thickness+1):\n",
    "    print((c*thickness).center(thickness*2)+(c*thickness).center(thickness*6))    \n",
    "\n",
    "#Bottom Cone\n",
    "for i in range(thickness):\n",
    "    print(((c*(thickness-i-1)).rjust(thickness)+c+(c*(thickness-i-1)).ljust(thickness)).rjust(thickness*6))"
   ]
  },
  {
   "cell_type": "code",
   "execution_count": null,
   "metadata": {},
   "outputs": [],
   "source": [
    "# Text Wrap\n",
    "\n",
    "import textwrap\n",
    "\n",
    "def wrap(string, max_width):\n",
    "    return textwrap.fill(string, max_width)\n",
    "\n",
    "if __name__ == '__main__':\n",
    "    string, max_width = input(), int(input())\n",
    "    result = wrap(string, max_width)\n",
    "    print(result)"
   ]
  },
  {
   "cell_type": "code",
   "execution_count": null,
   "metadata": {},
   "outputs": [],
   "source": [
    "# Designer Door Mat\n",
    "\n",
    "N, M = input().split()\n",
    "N = int(N)\n",
    "M = int(M)\n",
    "\n",
    "for i in range(1, int((N - 1) / 2 + 1)):\n",
    "    print(\n",
    "        \"---\" * int((N - 1) / 2 - i + 1)\n",
    "        + \".|.\" * (2 * i - 1)\n",
    "        + \"---\" * int((N - 1) / 2 - i + 1)\n",
    "    )\n",
    "\n",
    "print(\"-\" * int((M - 7) / 2) + \"WELCOME\" + \"-\" * int((M - 7) / 2))\n",
    "\n",
    "for i in range(int((N - 1) / 2), 0, -1):\n",
    "    print(\n",
    "        \"---\" * int((N - 1) / 2 - i + 1)\n",
    "        + \".|.\" * (2 * i - 1)\n",
    "        + \"---\" * int((N - 1) / 2 - i + 1)\n",
    "    )"
   ]
  },
  {
   "cell_type": "code",
   "execution_count": null,
   "metadata": {},
   "outputs": [],
   "source": [
    "# String Formatting\n",
    "\n",
    "\n",
    "def print_formatted(number):\n",
    "    width = len(\"%s\" % bin(number)[2:])\n",
    "    for i in range(1, number + 1):\n",
    "        # bin(), hex() and oct() return a strings with a two characters prefix. I removed it using [2:]\n",
    "        # For example with {2:>{0}s} we want to format the third argument passed to format()  as a string (s) aligned to right (>) with width (the first argument of format()) characters\n",
    "        print('{1:>{0}d} {2:>{0}s} {3:>{0}s} {4:>{0}s}'.format(width, i, oct(i)[2:], (hex(i)[2:]).upper(), bin(i)[2:]))\n",
    "\n",
    "\n",
    "if __name__ == \"__main__\":\n",
    "    n = int(input())\n",
    "    print_formatted(n)"
   ]
  },
  {
   "cell_type": "code",
   "execution_count": null,
   "metadata": {},
   "outputs": [],
   "source": [
    "# Alphabet Rangoli\n",
    "\n",
    "import string\n",
    "\n",
    "\n",
    "def print_rangoli(size):\n",
    "    alphabet = string.ascii_lowercase  # = 'abcdefghijklmnopqrstuvwxyz'\n",
    "    output = \"\"\n",
    "\n",
    "    # '-'.join(list) is used to concatenate all the elements in a list of strings with '-' as separator\n",
    "    for i in range(1, 2 * size):\n",
    "        output = (\n",
    "            output\n",
    "            + \"-\" * abs(2 * (size - 1) - 2 * (i - 1))\n",
    "            + \"\".join(\n",
    "                [letter + \"-\" for letter in alphabet[size - 1 : abs(size - (i)) : -1]]\n",
    "            )\n",
    "            + \"-\".join([letter for letter in alphabet[abs(size - (i)) : size]])\n",
    "            + \"-\" * abs(2 * (size - 1) - 2 * (i - 1))\n",
    "            + \"\\n\"\n",
    "        )\n",
    "    print(output)\n",
    "\n",
    "\n",
    "if __name__ == \"__main__\":\n",
    "    n = int(input())\n",
    "    print_rangoli(n)"
   ]
  },
  {
   "cell_type": "code",
   "execution_count": null,
   "metadata": {},
   "outputs": [],
   "source": [
    "# Capitalize!\n",
    "\n",
    "def solve(s):\n",
    "    names = s.split(\" \")\n",
    "    return \" \".join([n.capitalize() for n in names])\n",
    "\n",
    "\n",
    "if __name__ == \"__main__\":\n",
    "    s = input()\n",
    "    print(solve(s))"
   ]
  },
  {
   "cell_type": "code",
   "execution_count": null,
   "metadata": {},
   "outputs": [],
   "source": [
    "# The Minion Game\n",
    "\n",
    "\n",
    "def isVowel(c):\n",
    "    return \"AEIOU\".count(c)\n",
    "\n",
    "\n",
    "def minion_game(string):\n",
    "    kevin, stuart = 0, 0\n",
    "    for i in range(0, len(string)):\n",
    "        if isVowel(string[i]):\n",
    "            kevin += len(string) - i\n",
    "        else:\n",
    "            stuart += len(string) - i\n",
    "    if stuart > kevin:\n",
    "        print(\"Stuart\", stuart)\n",
    "    elif stuart < kevin:\n",
    "        print(\"Kevin\", kevin)\n",
    "    else:\n",
    "        print(\"Draw\")\n",
    "\n",
    "\n",
    "if __name__ == \"__main__\":\n",
    "    s = input()\n",
    "    minion_game(s)"
   ]
  },
  {
   "cell_type": "code",
   "execution_count": null,
   "metadata": {},
   "outputs": [],
   "source": [
    "# Merge the Tools!\n",
    "\n",
    "\n",
    "def merge_the_tools(string, k):\n",
    "    t = [string[i : i + k] for i in range(0, len(string), k)]\n",
    "    u = []\n",
    "    for ti in t:\n",
    "        u.append(ti[0])\n",
    "        for j in range(1, len(ti)):\n",
    "            if u.count(ti[j]) == 0:\n",
    "                u.append(ti[j])\n",
    "        print(''.join(u))\n",
    "        u.clear()\n",
    "\n",
    "\n",
    "if __name__ == \"__main__\":\n",
    "    string, k = input(), int(input())\n",
    "    merge_the_tools(string, k)"
   ]
  },
  {
   "cell_type": "markdown",
   "metadata": {},
   "source": [
    "# Sets"
   ]
  },
  {
   "cell_type": "code",
   "execution_count": null,
   "metadata": {},
   "outputs": [],
   "source": [
    "# Introduction to Sets\n",
    "\n",
    "\n",
    "def average(array):\n",
    "    heigths = set(arr)\n",
    "    return \"{0:.3f}\".format(sum(heigths) / len(heigths))\n",
    "\n",
    "\n",
    "if __name__ == \"__main__\":\n",
    "    n = int(input())\n",
    "    arr = list(map(int, input().split()))\n",
    "    result = average(arr)\n",
    "    print(result)"
   ]
  },
  {
   "cell_type": "code",
   "execution_count": null,
   "metadata": {},
   "outputs": [],
   "source": [
    "# Symmetric Difference\n",
    "\n",
    "M = int(input())\n",
    "a = set([int(x) for x in input().split()])\n",
    "N = int(input())\n",
    "b = set([int(x) for x in input().split()])\n",
    "c = (a.difference(b)).union(b.difference(a))\n",
    "result = list(c)\n",
    "result.sort()\n",
    "for x in result:\n",
    "    print(x)"
   ]
  },
  {
   "cell_type": "code",
   "execution_count": null,
   "metadata": {},
   "outputs": [],
   "source": [
    "# No Idea!\n",
    "\n",
    "n, m = map(int, input().split())\n",
    "arr = [int(x) for x in input().split()]\n",
    "A = set([int(x) for x in input().split()])\n",
    "B = set([int(x) for x in input().split()])\n",
    "happiness = 0\n",
    "for i in range(0, n):\n",
    "    if set({arr[i]}).issubset(A):\n",
    "        happiness +=1\n",
    "    elif set({arr[i]}).issubset(B):\n",
    "        happiness -=1\n",
    "print(happiness)"
   ]
  },
  {
   "cell_type": "code",
   "execution_count": null,
   "metadata": {},
   "outputs": [],
   "source": [
    "# Set .add()\n",
    "\n",
    "n = int(input())\n",
    "countries = set()\n",
    "for i in range(n):\n",
    "    countries.add(input())\n",
    "print(len(countries))"
   ]
  },
  {
   "cell_type": "code",
   "execution_count": null,
   "metadata": {},
   "outputs": [],
   "source": [
    "# Set .discard(), remove() & pop()\n",
    "\n",
    "n = int(input())\n",
    "s = set(map(int, input().split()))\n",
    "N = int(input())\n",
    "commands = []\n",
    "for i in range(N):\n",
    "    commands.append(input().split())\n",
    "for c in commands:\n",
    "    if len(c) == 1:\n",
    "        s.pop()\n",
    "    elif c[0] == \"remove\":\n",
    "        s.remove(int(c[1]))\n",
    "    elif c[0] == \"discard\":\n",
    "        s.discard(int(c[1]))\n",
    "print(sum(s))"
   ]
  },
  {
   "cell_type": "code",
   "execution_count": null,
   "metadata": {},
   "outputs": [],
   "source": [
    "# Set .union() Operation\n",
    "\n",
    "n = int(input())\n",
    "english = set([int(x) for x in input().split()])\n",
    "b = int(input())\n",
    "french = set([int(x) for x in input().split()])\n",
    "\n",
    "print(len(english.union(french)))"
   ]
  },
  {
   "cell_type": "code",
   "execution_count": null,
   "metadata": {},
   "outputs": [],
   "source": [
    "# Set .intersection() Operation\n",
    "\n",
    "n = int(input())\n",
    "english = set([int(x) for x in input().split()])\n",
    "b = int(input())\n",
    "french = set([int(x) for x in input().split()])\n",
    "\n",
    "print(len(english.intersection(french)))"
   ]
  },
  {
   "cell_type": "code",
   "execution_count": null,
   "metadata": {},
   "outputs": [],
   "source": [
    "# Set .difference() Operation\n",
    "\n",
    "n = int(input())\n",
    "english = set([int(x) for x in input().split()])\n",
    "b = int(input())\n",
    "french = set([int(x) for x in input().split()])\n",
    "\n",
    "print(len(english.difference(french)))"
   ]
  },
  {
   "cell_type": "code",
   "execution_count": null,
   "metadata": {},
   "outputs": [],
   "source": [
    "# Set .symmetric_difference() Operation\n",
    "\n",
    "n = int(input())\n",
    "english = set([int(x) for x in input().split()])\n",
    "b = int(input())\n",
    "french = set([int(x) for x in input().split()])\n",
    "\n",
    "print(len(english.symmetric_difference(french)))"
   ]
  },
  {
   "cell_type": "code",
   "execution_count": null,
   "metadata": {},
   "outputs": [],
   "source": [
    "# Set Mutations\n",
    "\n",
    "n = int(input())\n",
    "A = set([int(x) for x in input().split()])\n",
    "N = int(input())\n",
    "commands = []\n",
    "sets = []\n",
    "\n",
    "for i in range(N):\n",
    "    row = input().split(' ')\n",
    "    commands.append(row)\n",
    "    sets.append(set([int(x) for x in input().split()]))\n",
    "\n",
    "for i in range(N):\n",
    "    if commands[i][0] == \"intersection_update\":\n",
    "        A.intersection_update(sets[i])\n",
    "    elif commands[i][0] == \"update\":\n",
    "        A.update(sets[i])\n",
    "    elif commands[i][0] == \"symmetric_difference_update\":\n",
    "        A.symmetric_difference_update(sets[i])\n",
    "    elif commands[i][0] == \"difference_update\":\n",
    "        A.difference_update(sets[i])\n",
    "print(sum(A))\n"
   ]
  },
  {
   "cell_type": "code",
   "execution_count": null,
   "metadata": {},
   "outputs": [],
   "source": [
    "# The Captain's Room\n",
    "\n",
    "\"\"\" \n",
    "The following algorith works, but exceeds thetime limits\n",
    "\n",
    "K = int(input())\n",
    "rooms_list = [int(x) for x in input().split()]\n",
    "rooms = set(rooms_list)\n",
    "\n",
    "for i in rooms:\n",
    "    if rooms_list.count(i) == 1:\n",
    "        captain_room = i\n",
    "        break\n",
    "print(captain_room) \n",
    "\"\"\"\n",
    "\n",
    "\"\"\"\n",
    "From the formula: sumOfAllNumbersList = K * sumOfAllSingleRoomNumbersExceptCaptain + captainRoomNumber\n",
    "and given that: sumOfAllSingleRoomNumbers = sumOfAllSingleRoomNumbersExceptCaptain + captainRoomNumber\n",
    "we get: sumOfAllNumbersList = K * sumOfAllSingleRoomNumbers - (K-1) * captainRoomNumber\n",
    "and finally: captainRoomNumber = (K * sumOfAllSingleRoomNumbers - sumOfAllNumbersList) / (K-1)\n",
    "\"\"\"\n",
    "\n",
    "K = int(input())\n",
    "allNumberList = [int(x) for x in input().split()]\n",
    "sumOfAllNumbersList = sum(allNumberList)\n",
    "roomNumbers = set(allNumberList)\n",
    "sumOfAllSingleRoomNumbers = sum(roomNumbers)\n",
    "captainRoomNumber = (K * sumOfAllSingleRoomNumbers - sumOfAllNumbersList) / (K - 1)\n",
    "print(int(captainRoomNumber))"
   ]
  },
  {
   "cell_type": "code",
   "execution_count": null,
   "metadata": {},
   "outputs": [],
   "source": [
    "# Check Subset\n",
    "\n",
    "T = int(input())\n",
    "for i in range(T):\n",
    "    n_a = int(input())\n",
    "    a = set([int(x) for x in input().split()])\n",
    "    n_b = int(input())\n",
    "    b = set([int(x) for x in input().split()])\n",
    "    print(a.issubset(b) )"
   ]
  },
  {
   "cell_type": "code",
   "execution_count": null,
   "metadata": {},
   "outputs": [],
   "source": [
    "# Check Strict Superset\n",
    "\n",
    "a = set([int(x) for x in input().split()])\n",
    "n = int(input())\n",
    "results = []\n",
    "for i in range(n):\n",
    "    b = set([int(x) for x in input().split()])\n",
    "    if not (a.issuperset(b) and len(a.difference(b)) > 0):\n",
    "        print(False)\n",
    "        break\n",
    "else:\n",
    "    print(True)"
   ]
  }
 ],
 "metadata": {
  "kernelspec": {
   "display_name": "adm",
   "language": "python",
   "name": "python3"
  },
  "language_info": {
   "codemirror_mode": {
    "name": "ipython",
    "version": 3
   },
   "file_extension": ".py",
   "mimetype": "text/x-python",
   "name": "python",
   "nbconvert_exporter": "python",
   "pygments_lexer": "ipython3",
   "version": "3.11.5"
  },
  "orig_nbformat": 4
 },
 "nbformat": 4,
 "nbformat_minor": 2
}
